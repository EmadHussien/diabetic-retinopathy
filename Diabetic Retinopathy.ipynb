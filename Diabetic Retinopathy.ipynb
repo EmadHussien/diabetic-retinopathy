{
 "cells": [
  {
   "cell_type": "code",
   "execution_count": 125,
   "metadata": {},
   "outputs": [
    {
     "name": "stdout",
     "output_type": "stream",
     "text": [
      "cpu\n",
      "float32\n"
     ]
    }
   ],
   "source": [
    "import theano\n",
    "print(theano.config.device)\n",
    "print(theano.config.floatX)"
   ]
  },
  {
   "cell_type": "code",
   "execution_count": 126,
   "metadata": {},
   "outputs": [],
   "source": [
    "import numpy as np\n",
    "import keras"
   ]
  },
  {
   "cell_type": "code",
   "execution_count": 127,
   "metadata": {
    "collapsed": true
   },
   "outputs": [],
   "source": [
    "from keras.models import Sequential\n",
    "from keras.layers import Dense, Dropout, Flatten\n",
    "from keras.layers import Conv2D, MaxPooling2D\n",
    "from keras.optimizers import SGD, Adam\n",
    "from keras.preprocessing import image\n"
   ]
  },
  {
   "cell_type": "code",
   "execution_count": 128,
   "metadata": {},
   "outputs": [
    {
     "name": "stdout",
     "output_type": "stream",
     "text": [
      "Found 1659 images belonging to 5 classes.\n",
      "Found 550 images belonging to 5 classes.\n",
      "Found 560 images belonging to 5 classes.\n"
     ]
    }
   ],
   "source": [
    "# Aquire training, validation & prediction sets\n",
    "batches = image.ImageDataGenerator().flow_from_directory(\n",
    "    'data/training',\n",
    "    target_size=(256, 256), class_mode='categorical', shuffle=True, batch_size=16\n",
    ")\n",
    "\n",
    "val_batches = image.ImageDataGenerator().flow_from_directory(\n",
    "    'data/validation',\n",
    "    target_size=(256, 256), class_mode='categorical', shuffle=True, batch_size=16\n",
    ")\n",
    "\n",
    "test_batches = image.ImageDataGenerator().flow_from_directory(\n",
    "    'data/test/',\n",
    "    target_size=(256, 256), class_mode=None, shuffle=False, batch_size=32\n",
    ")"
   ]
  },
  {
   "cell_type": "code",
   "execution_count": 129,
   "metadata": {
    "collapsed": true
   },
   "outputs": [],
   "source": [
    "def ConvBlock(model, layers, filters):\n",
    "        \"\"\"\n",
    "            Adds a specified number of ZeroPadding and Covolution layers\n",
    "            to the model, and a MaxPooling layer at the very end.\n",
    "\n",
    "            Args:\n",
    "                layers (int):   The number of zero padded convolution layers\n",
    "                                to be added to the model.\n",
    "                filters (int):  The number of convolution filters to be\n",
    "                                created for each layer.\n",
    "        \"\"\"\n",
    "        for i in range(layers):\n",
    "            model.add(ZeroPadding2D((1, 1)))\n",
    "            model.add(Conv2D(filters, (3, 3), activation='relu'))\n",
    "        model.add(MaxPooling2D((2, 2), strides=(2, 2)))"
   ]
  },
  {
   "cell_type": "code",
   "execution_count": 137,
   "metadata": {},
   "outputs": [],
   "source": [
    "model = Sequential()\n",
    "# Increase the input shape and generator shape for more features. Number of features = side * side (224 * 224)\n",
    "model.add(Conv2D(128, (2, 2), activation='relu', input_shape=(256, 256, 3)))\n",
    "model.add(MaxPooling2D(pool_size=(2, 2)))\n",
    "# model.add(Conv2D(128, (2, 2), activation='relu'))\n",
    "# model.add(MaxPooling2D(pool_size=(2, 2)))\n",
    "model.add(Dropout(0.25))"
   ]
  },
  {
   "cell_type": "code",
   "execution_count": 138,
   "metadata": {
    "collapsed": true
   },
   "outputs": [],
   "source": [
    "model.add(Conv2D(64, (2, 2), activation='relu'))\n",
    "model.add(MaxPooling2D(pool_size=(2, 2)))\n",
    "# model.add(Conv2D(64, (2, 2), activation='relu'))\n",
    "# model.add(MaxPooling2D(pool_size=(2, 2)))\n",
    "model.add(Dropout(0.25))"
   ]
  },
  {
   "cell_type": "code",
   "execution_count": 139,
   "metadata": {
    "collapsed": true
   },
   "outputs": [],
   "source": [
    "model.add(Conv2D(32, (2, 2), activation='relu'))\n",
    "model.add(MaxPooling2D(pool_size=(2, 2)))\n",
    "# model.add(Conv2D(32, (2, 2), activation='relu'))\n",
    "# model.add(MaxPooling2D(pool_size=(2, 2)))\n",
    "model.add(Dropout(0.25))"
   ]
  },
  {
   "cell_type": "code",
   "execution_count": 140,
   "metadata": {},
   "outputs": [],
   "source": [
    "model.add(Conv2D(16, (2, 2), activation='relu'))\n",
    "model.add(MaxPooling2D(pool_size=(2, 2)))\n",
    "# model.add(Conv2D(16, (2, 2), activation='relu'))\n",
    "# model.add(MaxPooling2D(pool_size=(2, 2)))\n",
    "model.add(Dropout(0.25))"
   ]
  },
  {
   "cell_type": "code",
   "execution_count": 141,
   "metadata": {},
   "outputs": [],
   "source": [
    "model.add(Flatten())\n",
    "model.add(Dense(128, activation='relu'))\n",
    "model.add(Dropout(0.5))\n",
    "model.add(Dense(5, activation='softmax'))"
   ]
  },
  {
   "cell_type": "code",
   "execution_count": 142,
   "metadata": {},
   "outputs": [
    {
     "name": "stdout",
     "output_type": "stream",
     "text": [
      "_________________________________________________________________\n",
      "Layer (type)                 Output Shape              Param #   \n",
      "=================================================================\n",
      "conv2d_160 (Conv2D)          (None, 255, 255, 128)     1664      \n",
      "_________________________________________________________________\n",
      "max_pooling2d_149 (MaxPoolin (None, 127, 127, 128)     0         \n",
      "_________________________________________________________________\n",
      "dropout_85 (Dropout)         (None, 127, 127, 128)     0         \n",
      "_________________________________________________________________\n",
      "conv2d_161 (Conv2D)          (None, 126, 126, 64)      32832     \n",
      "_________________________________________________________________\n",
      "max_pooling2d_150 (MaxPoolin (None, 63, 63, 64)        0         \n",
      "_________________________________________________________________\n",
      "dropout_86 (Dropout)         (None, 63, 63, 64)        0         \n",
      "_________________________________________________________________\n",
      "conv2d_162 (Conv2D)          (None, 62, 62, 32)        8224      \n",
      "_________________________________________________________________\n",
      "max_pooling2d_151 (MaxPoolin (None, 31, 31, 32)        0         \n",
      "_________________________________________________________________\n",
      "dropout_87 (Dropout)         (None, 31, 31, 32)        0         \n",
      "_________________________________________________________________\n",
      "conv2d_163 (Conv2D)          (None, 30, 30, 16)        2064      \n",
      "_________________________________________________________________\n",
      "max_pooling2d_152 (MaxPoolin (None, 15, 15, 16)        0         \n",
      "_________________________________________________________________\n",
      "dropout_88 (Dropout)         (None, 15, 15, 16)        0         \n",
      "_________________________________________________________________\n",
      "flatten_22 (Flatten)         (None, 3600)              0         \n",
      "_________________________________________________________________\n",
      "dense_19 (Dense)             (None, 128)               460928    \n",
      "_________________________________________________________________\n",
      "dropout_89 (Dropout)         (None, 128)               0         \n",
      "_________________________________________________________________\n",
      "dense_20 (Dense)             (None, 5)                 645       \n",
      "=================================================================\n",
      "Total params: 506,357\n",
      "Trainable params: 506,357\n",
      "Non-trainable params: 0\n",
      "_________________________________________________________________\n",
      "None\n"
     ]
    }
   ],
   "source": [
    "model.compile(optimizer=Adam(lr=0.001), loss='categorical_crossentropy', metrics=['accuracy'])\n",
    "print(model.summary())"
   ]
  },
  {
   "cell_type": "code",
   "execution_count": null,
   "metadata": {},
   "outputs": [
    {
     "name": "stdout",
     "output_type": "stream",
     "text": [
      "Epoch 1/10\n",
      "  3/104 [..............................] - ETA: 12:38 - loss: 12.7515 - acc: 0.2083"
     ]
    }
   ],
   "source": [
    "# model.load_weights('weights.h5')\n",
    "model.fit_generator(batches, validation_data=val_batches, shuffle=True, epochs=10)"
   ]
  },
  {
   "cell_type": "code",
   "execution_count": null,
   "metadata": {
    "collapsed": true
   },
   "outputs": [],
   "source": [
    "# model.save_weights('weights.h5')"
   ]
  },
  {
   "cell_type": "code",
   "execution_count": null,
   "metadata": {
    "collapsed": true
   },
   "outputs": [],
   "source": [
    "preds = model.predict_generator(test_batches, test_batches.samples)"
   ]
  },
  {
   "cell_type": "code",
   "execution_count": null,
   "metadata": {},
   "outputs": [],
   "source": [
    "# Write to CSV\n",
    "import csv\n",
    "import re\n",
    "import numpy as np\n",
    "from random import randint\n",
    "\n",
    "def transform(arr):\n",
    "    '''Takes a list and turns the highest number into 1, else 0'''\n",
    "    high = 0\n",
    "    for n in arr:\n",
    "        if n > high:\n",
    "            high = n\n",
    "    return [1 if n == high else 0 for n in arr]\n",
    "\n",
    "\n",
    "def getClassMap(csvPath='./data/train.csv'):\n",
    "    classMap = {}\n",
    "\n",
    "    with open(csvPath, 'r') as classMapCSV:\n",
    "        classMapCSV = csv.reader(classMapCSV, delimiter=',', quotechar='|')\n",
    "        for row in classMapCSV:\n",
    "            classMap[row[0]] = row[1]\n",
    "\n",
    "    return classMap\n",
    "\n",
    "def getPredictions(i):\n",
    "    classPredictions = list(zip(classes, preds[i]))\n",
    "    sortedByConfidence = sorted(classPredictions, key=lambda p: p[1], reverse=True)\n",
    "    best5guesses = [guess[0] for guess in sortedByConfidence[:5]]\n",
    "\n",
    "    return ' '.join(best5guesses)\n",
    "\n",
    "header = ['Image', 'Id']\n",
    "classMap = getClassMap('./data/train.csv')\n",
    "classes = list(iter(test_batches.class_indices))\n",
    "\n",
    "i = 0\n",
    "match = 0\n",
    "noMatch = 0\n",
    "randomMatch = 0\n",
    "matchedClasses = {\n",
    "    '0': 0,\n",
    "    '1': 0,\n",
    "    '2': 0,\n",
    "    '3': 0,\n",
    "    '4': 0,\n",
    "}\n",
    "while 1:\n",
    "    try:\n",
    "        fileName = test_batches.filenames[i].split('/')[1].split('.')[0]\n",
    "        prediction, actual = (getPredictions(i)[0], classMap[fileName])\n",
    "        if prediction == actual:\n",
    "            matchedClasses[prediction] += 1\n",
    "            match += 1\n",
    "        else:\n",
    "            noMatch += 1\n",
    "        i += 1\n",
    "        \n",
    "        guess = randint(0, 4)\n",
    "        if str(guess) == prediction:\n",
    "            randomMatch += 1\n",
    "    except (IndexError, KeyError):\n",
    "        break\n",
    "        print('Skipped')\n",
    "        pass\n",
    "\n",
    "print('total', '\\t', 'pred', '\\t', 'wrong', '\\t', 'guess')\n",
    "print(i, '\\t', match, '\\t', noMatch, '\\t', randomMatch)\n",
    "print('Actual acc: ', match / i)\n",
    "print('Accidental acc: ', randomMatch / i)\n",
    "print(matchedClasses)\n",
    "\n",
    "\n",
    "# for i in range(len(preds)):\n",
    "#     try:\n",
    "#         fileName = test_batches.filenames[i].split('/')[1].split('.')[0]\n",
    "#         row = [getPredictions(i)[0], classMap[fileName]]\n",
    "#         print('match' if row[0] == row[1] else None)\n",
    "#     except (IndexError, KeyError):\n",
    "#         print('Skipped')\n",
    "#         pass"
   ]
  },
  {
   "cell_type": "code",
   "execution_count": null,
   "metadata": {
    "collapsed": true
   },
   "outputs": [],
   "source": [
    "# Make predictions on Test data\n",
    "# Consider the rate at which you're getting them right\n",
    "# Look at examples of what you get right and what you get wrong"
   ]
  },
  {
   "cell_type": "markdown",
   "metadata": {},
   "source": [
    "- Save the weights after each epoch\n",
    "- Try out more optimizers and see if results change\n",
    "- Try a larger image size\n",
    "- Show someone your architecture for advice\n",
    "- Figure out the meaning of each layers, specifically read keras code\n",
    "- Run up 50 epochs overnight to see if the results get better\n",
    "- Make a ton of predictions to see how right it's getting it. Make your own error metric"
   ]
  }
 ],
 "metadata": {
  "kernelspec": {
   "display_name": "Python 3",
   "language": "python",
   "name": "python3"
  },
  "language_info": {
   "codemirror_mode": {
    "name": "ipython",
    "version": 3
   },
   "file_extension": ".py",
   "mimetype": "text/x-python",
   "name": "python",
   "nbconvert_exporter": "python",
   "pygments_lexer": "ipython3",
   "version": "3.6.3"
  }
 },
 "nbformat": 4,
 "nbformat_minor": 2
}
