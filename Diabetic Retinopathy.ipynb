{
 "cells": [
  {
   "cell_type": "code",
   "execution_count": 3,
   "metadata": {},
   "outputs": [
    {
     "name": "stdout",
     "output_type": "stream",
     "text": [
      "cpu\n",
      "float32\n"
     ]
    }
   ],
   "source": [
    "import theano\n",
    "print(theano.config.device)\n",
    "print(theano.config.floatX)"
   ]
  },
  {
   "cell_type": "code",
   "execution_count": 4,
   "metadata": {},
   "outputs": [],
   "source": [
    "import numpy as np\n",
    "import keras"
   ]
  },
  {
   "cell_type": "code",
   "execution_count": 5,
   "metadata": {
    "collapsed": true
   },
   "outputs": [],
   "source": [
    "from keras.models import Sequential\n",
    "from keras.layers import Dense, Dropout, Flatten\n",
    "from keras.layers import Conv2D, MaxPooling2D\n",
    "from keras.optimizers import SGD, Adam\n",
    "from keras.preprocessing import image\n"
   ]
  },
  {
   "cell_type": "code",
   "execution_count": 6,
   "metadata": {},
   "outputs": [
    {
     "name": "stdout",
     "output_type": "stream",
     "text": [
      "Found 1659 images belonging to 5 classes.\n",
      "Found 550 images belonging to 5 classes.\n",
      "Found 560 images belonging to 5 classes.\n"
     ]
    }
   ],
   "source": [
    "# Aquire training, validation & prediction sets\n",
    "batches = image.ImageDataGenerator().flow_from_directory(\n",
    "    'data/training',\n",
    "    target_size=(512, 512), class_mode='categorical', shuffle=True, batch_size=16\n",
    ")\n",
    "\n",
    "val_batches = image.ImageDataGenerator().flow_from_directory(\n",
    "    'data/validation',\n",
    "    target_size=(512, 512), class_mode='categorical', shuffle=True, batch_size=16\n",
    ")\n",
    "\n",
    "test_batches = image.ImageDataGenerator().flow_from_directory(\n",
    "    'data/test/',\n",
    "    target_size=(512, 512), class_mode=None, shuffle=False, batch_size=32\n",
    ")"
   ]
  },
  {
   "cell_type": "code",
   "execution_count": 7,
   "metadata": {},
   "outputs": [],
   "source": [
    "model = Sequential()\n",
    "# Increase the input shape and generator shape for more features. Number of features = side * side (224 * 224)\n",
    "model.add(Conv2D(16, (3, 3), activation='relu', input_shape=(512, 512, 3)))\n",
    "model.add(Conv2D(16, (3, 3), activation='relu'))\n",
    "model.add(MaxPooling2D(pool_size=(2, 2), strides=(2, 2)))\n",
    "model.add(Dropout(0.2))"
   ]
  },
  {
   "cell_type": "code",
   "execution_count": 8,
   "metadata": {
    "collapsed": true
   },
   "outputs": [],
   "source": [
    "model.add(Conv2D(32, (3, 3), activation='relu'))\n",
    "model.add(Conv2D(32, (3, 3), activation='relu'))\n",
    "model.add(MaxPooling2D(pool_size=(2, 2), strides=(2, 2)))\n",
    "model.add(Dropout(0.2))"
   ]
  },
  {
   "cell_type": "code",
   "execution_count": 9,
   "metadata": {
    "collapsed": true
   },
   "outputs": [],
   "source": [
    "model.add(Conv2D(64, (3, 3), activation='relu'))\n",
    "model.add(Conv2D(64, (3, 3), activation='relu'))\n",
    "model.add(MaxPooling2D(pool_size=(2, 2), strides=(2, 2)))\n",
    "model.add(Dropout(0.2))"
   ]
  },
  {
   "cell_type": "code",
   "execution_count": 10,
   "metadata": {},
   "outputs": [],
   "source": [
    "model.add(Conv2D(128, (3, 3), activation='relu'))\n",
    "model.add(Conv2D(128, (3, 3), activation='relu'))\n",
    "model.add(Conv2D(128, (3, 3), activation='relu'))\n",
    "model.add(MaxPooling2D(pool_size=(2, 2), strides=(2, 2)))\n",
    "model.add(Dropout(0.2))"
   ]
  },
  {
   "cell_type": "code",
   "execution_count": 11,
   "metadata": {
    "collapsed": true
   },
   "outputs": [],
   "source": [
    "model.add(Conv2D(256, (3, 3), activation='relu'))\n",
    "model.add(Conv2D(256, (3, 3), activation='relu'))\n",
    "model.add(Conv2D(256, (3, 3), activation='relu'))\n",
    "model.add(MaxPooling2D(pool_size=(2, 2), strides=(2, 2)))\n",
    "model.add(Dropout(0.2))"
   ]
  },
  {
   "cell_type": "code",
   "execution_count": 12,
   "metadata": {},
   "outputs": [],
   "source": [
    "model.add(Flatten())\n",
    "model.add(Dense(256, activation='relu'))\n",
    "model.add(Dropout(0.4))\n",
    "model.add(Dense(5, activation='softmax'))"
   ]
  },
  {
   "cell_type": "code",
   "execution_count": 13,
   "metadata": {},
   "outputs": [
    {
     "name": "stdout",
     "output_type": "stream",
     "text": [
      "_________________________________________________________________\n",
      "Layer (type)                 Output Shape              Param #   \n",
      "=================================================================\n",
      "conv2d_1 (Conv2D)            (None, 510, 510, 16)      448       \n",
      "_________________________________________________________________\n",
      "conv2d_2 (Conv2D)            (None, 508, 508, 16)      2320      \n",
      "_________________________________________________________________\n",
      "max_pooling2d_1 (MaxPooling2 (None, 254, 254, 16)      0         \n",
      "_________________________________________________________________\n",
      "dropout_1 (Dropout)          (None, 254, 254, 16)      0         \n",
      "_________________________________________________________________\n",
      "conv2d_3 (Conv2D)            (None, 252, 252, 32)      4640      \n",
      "_________________________________________________________________\n",
      "conv2d_4 (Conv2D)            (None, 250, 250, 32)      9248      \n",
      "_________________________________________________________________\n",
      "max_pooling2d_2 (MaxPooling2 (None, 125, 125, 32)      0         \n",
      "_________________________________________________________________\n",
      "dropout_2 (Dropout)          (None, 125, 125, 32)      0         \n",
      "_________________________________________________________________\n",
      "conv2d_5 (Conv2D)            (None, 123, 123, 64)      18496     \n",
      "_________________________________________________________________\n",
      "conv2d_6 (Conv2D)            (None, 121, 121, 64)      36928     \n",
      "_________________________________________________________________\n",
      "max_pooling2d_3 (MaxPooling2 (None, 60, 60, 64)        0         \n",
      "_________________________________________________________________\n",
      "dropout_3 (Dropout)          (None, 60, 60, 64)        0         \n",
      "_________________________________________________________________\n",
      "conv2d_7 (Conv2D)            (None, 58, 58, 128)       73856     \n",
      "_________________________________________________________________\n",
      "conv2d_8 (Conv2D)            (None, 56, 56, 128)       147584    \n",
      "_________________________________________________________________\n",
      "conv2d_9 (Conv2D)            (None, 54, 54, 128)       147584    \n",
      "_________________________________________________________________\n",
      "max_pooling2d_4 (MaxPooling2 (None, 27, 27, 128)       0         \n",
      "_________________________________________________________________\n",
      "dropout_4 (Dropout)          (None, 27, 27, 128)       0         \n",
      "_________________________________________________________________\n",
      "conv2d_10 (Conv2D)           (None, 25, 25, 256)       295168    \n",
      "_________________________________________________________________\n",
      "conv2d_11 (Conv2D)           (None, 23, 23, 256)       590080    \n",
      "_________________________________________________________________\n",
      "conv2d_12 (Conv2D)           (None, 21, 21, 256)       590080    \n",
      "_________________________________________________________________\n",
      "max_pooling2d_5 (MaxPooling2 (None, 10, 10, 256)       0         \n",
      "_________________________________________________________________\n",
      "dropout_5 (Dropout)          (None, 10, 10, 256)       0         \n",
      "_________________________________________________________________\n",
      "flatten_1 (Flatten)          (None, 25600)             0         \n",
      "_________________________________________________________________\n",
      "dense_1 (Dense)              (None, 256)               6553856   \n",
      "_________________________________________________________________\n",
      "dropout_6 (Dropout)          (None, 256)               0         \n",
      "_________________________________________________________________\n",
      "dense_2 (Dense)              (None, 5)                 1285      \n",
      "=================================================================\n",
      "Total params: 8,471,573\n",
      "Trainable params: 8,471,573\n",
      "Non-trainable params: 0\n",
      "_________________________________________________________________\n",
      "None\n"
     ]
    }
   ],
   "source": [
    "model.compile(optimizer=Adam(lr=0.001), loss='categorical_crossentropy', metrics=['accuracy'])\n",
    "print(model.summary())"
   ]
  },
  {
   "cell_type": "code",
   "execution_count": null,
   "metadata": {},
   "outputs": [
    {
     "name": "stdout",
     "output_type": "stream",
     "text": [
      "Epoch 1/10\n",
      "  1/104 [..............................] - ETA: 29:08 - loss: 5.7585 - acc: 0.1875"
     ]
    }
   ],
   "source": [
    "# model.load_weights('weights.h5')\n",
    "model.fit_generator(batches, validation_data=val_batches, shuffle=True, epochs=10)"
   ]
  },
  {
   "cell_type": "code",
   "execution_count": null,
   "metadata": {
    "collapsed": true
   },
   "outputs": [],
   "source": [
    "# model.save_weights('weights.h5')"
   ]
  },
  {
   "cell_type": "code",
   "execution_count": null,
   "metadata": {
    "collapsed": true
   },
   "outputs": [],
   "source": [
    "preds = model.predict_generator(test_batches, test_batches.samples)"
   ]
  },
  {
   "cell_type": "code",
   "execution_count": null,
   "metadata": {},
   "outputs": [],
   "source": [
    "# Write to CSV\n",
    "import csv\n",
    "import re\n",
    "import numpy as np\n",
    "from random import randint\n",
    "\n",
    "def transform(arr):\n",
    "    '''Takes a list and turns the highest number into 1, else 0'''\n",
    "    high = 0\n",
    "    for n in arr:\n",
    "        if n > high:\n",
    "            high = n\n",
    "    return [1 if n == high else 0 for n in arr]\n",
    "\n",
    "\n",
    "def getClassMap(csvPath='./data/train.csv'):\n",
    "    classMap = {}\n",
    "\n",
    "    with open(csvPath, 'r') as classMapCSV:\n",
    "        classMapCSV = csv.reader(classMapCSV, delimiter=',', quotechar='|')\n",
    "        for row in classMapCSV:\n",
    "            classMap[row[0]] = row[1]\n",
    "\n",
    "    return classMap\n",
    "\n",
    "def getPredictions(i):\n",
    "    classPredictions = list(zip(classes, preds[i]))\n",
    "    sortedByConfidence = sorted(classPredictions, key=lambda p: p[1], reverse=True)\n",
    "    best5guesses = [guess[0] for guess in sortedByConfidence[:5]]\n",
    "\n",
    "    return ' '.join(best5guesses)\n",
    "\n",
    "header = ['Image', 'Id']\n",
    "classMap = getClassMap('./data/train.csv')\n",
    "classes = list(iter(test_batches.class_indices))\n",
    "\n",
    "i = 0\n",
    "match = 0\n",
    "noMatch = 0\n",
    "randomMatch = 0\n",
    "matchedClasses = {\n",
    "    '0': 0,\n",
    "    '1': 0,\n",
    "    '2': 0,\n",
    "    '3': 0,\n",
    "    '4': 0,\n",
    "}\n",
    "while 1:\n",
    "    try:\n",
    "        fileName = test_batches.filenames[i].split('/')[1].split('.')[0]\n",
    "        prediction, actual = (getPredictions(i)[0], classMap[fileName])\n",
    "        if prediction == actual:\n",
    "            matchedClasses[prediction] += 1\n",
    "            match += 1\n",
    "        else:\n",
    "            noMatch += 1\n",
    "        i += 1\n",
    "        \n",
    "        guess = randint(0, 4)\n",
    "        if str(guess) == prediction:\n",
    "            randomMatch += 1\n",
    "    except (IndexError, KeyError):\n",
    "        break\n",
    "        print('Skipped')\n",
    "        pass\n",
    "\n",
    "print('total', '\\t', 'pred', '\\t', 'wrong', '\\t', 'guess')\n",
    "print(i, '\\t', match, '\\t', noMatch, '\\t', randomMatch)\n",
    "print('Actual acc: ', match / i)\n",
    "print('Accidental acc: ', randomMatch / i)\n",
    "print(matchedClasses)\n",
    "\n",
    "\n",
    "# for i in range(len(preds)):\n",
    "#     try:\n",
    "#         fileName = test_batches.filenames[i].split('/')[1].split('.')[0]\n",
    "#         row = [getPredictions(i)[0], classMap[fileName]]\n",
    "#         print('match' if row[0] == row[1] else None)\n",
    "#     except (IndexError, KeyError):\n",
    "#         print('Skipped')\n",
    "#         pass"
   ]
  },
  {
   "cell_type": "code",
   "execution_count": null,
   "metadata": {
    "collapsed": true
   },
   "outputs": [],
   "source": [
    "# Make predictions on Test data\n",
    "# Consider the rate at which you're getting them right\n",
    "# Look at examples of what you get right and what you get wrong"
   ]
  },
  {
   "cell_type": "markdown",
   "metadata": {},
   "source": [
    "- Save the weights after each epoch\n",
    "- Try out more optimizers and see if results change\n",
    "- Try a larger image size\n",
    "- Show someone your architecture for advice\n",
    "- Figure out the meaning of each layers, specifically read keras code\n",
    "- Run up 50 epochs overnight to see if the results get better\n",
    "- Make a ton of predictions to see how right it's getting it. Make your own error metric"
   ]
  }
 ],
 "metadata": {
  "kernelspec": {
   "display_name": "Python 3",
   "language": "python",
   "name": "python3"
  },
  "language_info": {
   "codemirror_mode": {
    "name": "ipython",
    "version": 3
   },
   "file_extension": ".py",
   "mimetype": "text/x-python",
   "name": "python",
   "nbconvert_exporter": "python",
   "pygments_lexer": "ipython3",
   "version": "3.6.3"
  }
 },
 "nbformat": 4,
 "nbformat_minor": 2
}
