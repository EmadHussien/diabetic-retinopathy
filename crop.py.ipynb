{
 "cells": [
  {
   "cell_type": "code",
   "execution_count": null,
   "metadata": {
    "collapsed": true
   },
   "outputs": [],
   "source": [
    "from PIL import Image\n",
    "\n",
    "im = Image.open('/Users/kumailht/Desktop/10184_left.jpeg').convert('RGB')"
   ]
  },
  {
   "cell_type": "code",
   "execution_count": null,
   "metadata": {
    "collapsed": true
   },
   "outputs": [],
   "source": [
    "def isBlack(x, y):\n",
    "    rgb = im.getpixel((x, y))\n",
    "    return max(rgb) <= 60\n",
    "\n",
    "width, height = im.size\n",
    "xMidpoint = width / 2\n",
    "yMidpoint = height / 2\n",
    "\n",
    "leftX = 0\n",
    "upperY = 0\n",
    "rightX = width - 1\n",
    "lowerY = height - 1\n",
    "\n",
    "for side in ['top', 'right', 'bottom', 'left']:\n",
    "    if side == 'top':\n",
    "        while isBlack(xMidpoint, upperY) == True:\n",
    "            upperY += 1\n",
    "\n",
    "    if side == 'right':\n",
    "        while isBlack(rightX, yMidpoint) == True:\n",
    "            rightX -= 1\n",
    "\n",
    "    if side == 'bottom':\n",
    "        while isBlack(xMidpoint, lowerY) == True:\n",
    "            lowerY -= 1\n",
    "\n",
    "    if side == 'left':\n",
    "        while isBlack(leftX, yMidpoint) == True:\n",
    "            leftX += 1\n",
    "\n",
    "print(leftX, upperY, rightX, lowerY)\n",
    "cropped = im.crop(box=(leftX, upperY, rightX, lowerY))\n",
    "\n",
    "cropped.save('/Users/kumailht/Desktop/10184_left_cropped.jpeg')\n"
   ]
  },
  {
   "cell_type": "code",
   "execution_count": null,
   "metadata": {
    "collapsed": true
   },
   "outputs": [],
   "source": [
    "from PIL import Image\n",
    "\n",
    "def autoCropImage(imagePath, targetPath):\n",
    "    '''Trims an image by cropping away black edges'''\n",
    "    def isBlack(x, y):\n",
    "        rgb = im.getpixel((x, y))\n",
    "        return max(rgb) <= 60\n",
    "\n",
    "    im = Image.open(imagePath).convert('RGB')\n",
    "\n",
    "    width, height = im.size\n",
    "    \n",
    "    xMidpoint = width / 2\n",
    "    yMidpoint = height / 2\n",
    "\n",
    "    leftX = 0\n",
    "    upperY = 0\n",
    "    rightX = width - 1\n",
    "    lowerY = height - 1\n",
    "\n",
    "    for side in ['top', 'right', 'bottom', 'left']:\n",
    "        if side == 'top':\n",
    "            while isBlack(xMidpoint, upperY):\n",
    "                upperY += 1\n",
    "\n",
    "        if side == 'right':\n",
    "            while isBlack(rightX, yMidpoint):\n",
    "                rightX -= 1\n",
    "\n",
    "        if side == 'bottom':\n",
    "            while isBlack(xMidpoint, lowerY):\n",
    "                lowerY -= 1\n",
    "\n",
    "        if side == 'left':\n",
    "            while isBlack(leftX, yMidpoint):\n",
    "                leftX += 1\n",
    "\n",
    "    cropped = im.crop(box=(leftX, upperY, rightX, lowerY))\n",
    "    cropped.save(targetPath)\n",
    "\n",
    "autoCropImage(\n",
    "    '/Users/kumailht/Desktop/10184_left.jpeg', '/Users/kumailht/Desktop/10184_left_cropped.jpeg'\n",
    ")"
   ]
  },
  {
   "cell_type": "code",
   "execution_count": 21,
   "metadata": {},
   "outputs": [],
   "source": [
    "from PIL import Image\n",
    "\n",
    "def circleToSquare(imagePath, targetPath):\n",
    "    '''Trims an image by cropping away black edges'''\n",
    "    def isBlack(x, y):\n",
    "        rgb = im.getpixel((x, y))\n",
    "        return max(rgb) <= 60\n",
    "\n",
    "    im = Image.open(imagePath).convert('RGB')\n",
    "\n",
    "    width, height = im.size\n",
    "    \n",
    "    quarterHeight = 0.30 * height\n",
    "    \n",
    "    topRight = width - 1\n",
    "    bottomRight = width - 1\n",
    "    bottomLeft = 0\n",
    "    topLeft = 0\n",
    "\n",
    "    for corner in ['topRight', 'bottomRight', 'bottomLeft', 'topLeft']:\n",
    "        if corner == 'topRight':\n",
    "            while isBlack(topRight, quarterHeight):\n",
    "                topRight -= 1\n",
    "\n",
    "        if corner == 'bottomRight':\n",
    "            while isBlack(bottomRight, quarterHeight * 3):\n",
    "                bottomRight -= 1\n",
    "\n",
    "        if corner == 'bottomLeft':\n",
    "            while isBlack(bottomLeft, quarterHeight * 3):\n",
    "                bottomLeft += 1\n",
    "\n",
    "        if corner == 'topLeft':\n",
    "            while isBlack(topLeft, quarterHeight):\n",
    "                topLeft += 1\n",
    "\n",
    "    cropped = im.crop(box=(max(topLeft, bottomLeft), quarterHeight, min(topRight, bottomRight), quarterHeight * 3))\n",
    "    cropped.save(targetPath)\n",
    "\n",
    "circleToSquare(\n",
    "    '/Users/kumailht/Desktop/10184_left_scaled.jpeg', '/Users/kumailht/Desktop/10184_left_centered.jpeg'\n",
    ")"
   ]
  },
  {
   "cell_type": "code",
   "execution_count": null,
   "metadata": {
    "collapsed": true
   },
   "outputs": [],
   "source": []
  },
  {
   "cell_type": "code",
   "execution_count": null,
   "metadata": {
    "collapsed": true
   },
   "outputs": [],
   "source": []
  }
 ],
 "metadata": {
  "kernelspec": {
   "display_name": "Python 3",
   "language": "python",
   "name": "python3"
  },
  "language_info": {
   "codemirror_mode": {
    "name": "ipython",
    "version": 3
   },
   "file_extension": ".py",
   "mimetype": "text/x-python",
   "name": "python",
   "nbconvert_exporter": "python",
   "pygments_lexer": "ipython3",
   "version": "3.6.3"
  }
 },
 "nbformat": 4,
 "nbformat_minor": 2
}
